{
 "cells": [
  {
   "cell_type": "markdown",
   "id": "2b09d881",
   "metadata": {},
   "source": [
    "# OCR Agent from scratch:\n",
    "\n",
    "* [Data](./Data-Sources.ipynb)\n",
    "* [Utilities](./Data-Processing.ipynb)\n",
    "* [Extract layout features and visual tokens](./Data-Extraction-2.ipynb)\n",
    "* Generate training data\n",
    "    * [Labeling](./Data-Extraction-3.ipynb)\n",
    "    * Pipeline\n",
    "    * [Datasets](./Datasets.ipynb)\n",
    "* [Model architecture](./Model-Backbone.ipynb)\n",
    "* [Traversal strategies](./Traversal-Layout.ipynb)\n",
    "* [Reader Agent](./Agent-LM.ipynb)\n",
    "* [Leverage synthetic training data](./Data-Gen.ipynb)\n",
    "* [Optimization for production](./Optimization.ipynb)\n",
    "\n",
    "\n",
    "### Put together extraction with labeling pipeline\n",
    "\n",
    "* Load the image\n",
    "* Extract layout and text features\n",
    "* Match labels using `pdf` data\n",
    "* Filter out data with uncertain labels"
   ]
  },
  {
   "cell_type": "code",
   "execution_count": 1,
   "id": "233d95b6",
   "metadata": {},
   "outputs": [],
   "source": [
    "import torch\n",
    "import pandas as pd\n",
    "import numpy as np\n",
    "import warnings\n",
    "warnings.filterwarnings('ignore')\n",
    "\n",
    "from PIL import Image\n",
    "from matplotlib import pyplot as plt\n",
    "from matplotlib import patches\n",
    "from pathlib import Path\n",
    "from collections import Counter\n",
    "from unidecode import unidecode\n",
    "from torch.utils.data import DataLoader, Dataset"
   ]
  },
  {
   "cell_type": "code",
   "execution_count": 2,
   "id": "e9cb9c5a",
   "metadata": {},
   "outputs": [],
   "source": [
    "from scripts.extract import *"
   ]
  },
  {
   "cell_type": "code",
   "execution_count": 3,
   "id": "f293d6e4",
   "metadata": {},
   "outputs": [
    {
     "data": {
      "text/plain": [
       "8631"
      ]
     },
     "execution_count": 3,
     "metadata": {},
     "output_type": "execute_result"
    }
   ],
   "source": [
    "samples = sorted([str(x)[12:-4] for x in Path('./data/images').glob('*.png')])\n",
    "len(samples)"
   ]
  },
  {
   "cell_type": "markdown",
   "id": "5276c9c1",
   "metadata": {},
   "source": [
    "    done = set([str(x)[13:-7] for x in Path('./data/extract').glob('*.csv.gz')])\n",
    "    samples = [x for x in samples if not x in done]\n",
    "    # get some reasonable size for first try\n",
    "    samples = np.random.choice(samples, 2000, replace=False)"
   ]
  },
  {
   "cell_type": "code",
   "execution_count": 4,
   "id": "38c3ac4f",
   "metadata": {},
   "outputs": [],
   "source": [
    "def main(source):    \n",
    "    image = load_image(source)\n",
    "    if np.min(image) == 255:\n",
    "        return\n",
    "    objects = extract_layout(image)\n",
    "    if objects is None:\n",
    "        return\n",
    "    \n",
    "    tokens, words, lines, boxes, success = objects    \n",
    "    # remove duplicates\n",
    "    tokens['index'] = None\n",
    "    run_checkup(tokens, image)\n",
    "    tokens = tokens.loc[tokens['index']!=-1,:].drop('index', axis=1)    \n",
    "    # set center-point reference for matching label\n",
    "    tokens['level'] = (tokens['top'] + tokens['height']//2).astype(int)\n",
    "    tokens['order'] = (tokens['left'] + tokens['width']//2).astype(int)\n",
    "    boxes.loc[:,['block-index','line-index','word-index']] = -1\n",
    "    boxes['level'] = (boxes['top'] + boxes['height']//2).astype(int)\n",
    "    boxes['order'] = (boxes['left'] + boxes['width']//2).astype(int)\n",
    "    # lift center-point for underscore-lines to match the input space\n",
    "    LN = int(lines['height'].median())\n",
    "    boxes.loc[boxes['type']==HLINE,'level'] -= LN//2\n",
    "    tokens = pd.concat([tokens, boxes[tokens.columns]]).set_index(['level','order'])\n",
    "    # match labels\n",
    "    words, chars, inputs = load_labels(source, LN)    \n",
    "    result = run_labeling(tokens, image, words, chars, inputs)\n",
    "    tokens.loc[:, result.columns] = result.values\n",
    "    return tokens, success\n"
   ]
  },
  {
   "cell_type": "code",
   "execution_count": 5,
   "id": "e9c4ea1a",
   "metadata": {},
   "outputs": [
    {
     "data": {
      "text/plain": [
       "(0.88, True)"
      ]
     },
     "execution_count": 5,
     "metadata": {},
     "output_type": "execute_result"
    }
   ],
   "source": [
    "source = np.random.choice(samples)\n",
    "\n",
    "tokens, success = main(source)\n",
    "round(len(tokens[tokens['proba'] > 0.7])/len(tokens), 2), success"
   ]
  },
  {
   "cell_type": "markdown",
   "id": "e19249a3",
   "metadata": {},
   "source": [
    "Some tokens could have multiple representations with the same visual outcome -\n",
    "let's reduce it to the single label.\n",
    "\n",
    "[Full list of symbols](https://symbl.cc/en/unicode-table/) "
   ]
  },
  {
   "cell_type": "code",
   "execution_count": 6,
   "id": "8f083621",
   "metadata": {},
   "outputs": [],
   "source": [
    "# in our corput those looks identical\n",
    "def stem_label(s):\n",
    "    if s is None:\n",
    "        return\n",
    "    if s in '–—−‐':\n",
    "        return '-'\n",
    "    if s in '×✗':\n",
    "        return \"x\"\n",
    "    if s in ('CheckBox','RadioButton'):\n",
    "        return '☐'\n",
    "    if s in '”“':\n",
    "        return '\"'\n",
    "    if s in '’‘':\n",
    "        return \"'\"\n",
    "    if s == '●':\n",
    "        return \"•\"\n",
    "    if s == '►':\n",
    "        return \"▶\"     \n",
    "    if s == '◄':\n",
    "        return \"◀\"     \n",
    "    return s\n"
   ]
  },
  {
   "cell_type": "markdown",
   "id": "656e6b78",
   "metadata": {},
   "source": [
    "    # clear previous run output\n",
    "    !rm data/training/*"
   ]
  },
  {
   "cell_type": "markdown",
   "id": "db8cd3e5",
   "metadata": {},
   "source": [
    "    labels, result = [], []\n",
    "    for i, source in enumerate(samples, 1):\n",
    "        output = main(source)\n",
    "        if output is None:\n",
    "            continue\n",
    "        tokens, success = output\n",
    "        tokens['label'] = tokens['label'].apply(stem_label)\n",
    "        # keep only those with reliable label\n",
    "        proba = tokens['proba'].mean()\n",
    "        size = len(tokens)\n",
    "        tokens = tokens.loc[tokens['proba'] > 0.8]\n",
    "        # save for training\n",
    "        tokens.to_csv(f'./data/training/{source}.csv.gz', index=False, compression='gzip')\n",
    "        # get in-doc counts\n",
    "        count = tokens.groupby('label').size()\n",
    "        # append to adjusted-in-all\n",
    "        labels += count.index.tolist()\n",
    "        #print(f\"{i:>4} {source:<20} {len(tokens):<5} {proba:.2%}\")\n",
    "        result.append({'source':  source,\n",
    "                       'size':    size,\n",
    "                       'samples': len(tokens),\n",
    "                       'labels':  len(count),\n",
    "                       'proba':   proba,\n",
    "                       'success': success})\n",
    "        print(f'done: {i/len(samples):<8.2%} proba: {proba:<4.0%} sample: {len(tokens)/size:.0%} ', end='\\r')"
   ]
  },
  {
   "cell_type": "markdown",
   "id": "f108ab32",
   "metadata": {},
   "source": [
    "    labels = pd.DataFrame(Counter(labels).most_common(), columns=['label','count'])\n",
    "    # separate `char`-level tokens (including CheckBox and Radio)\n",
    "    labels['len'] = labels['label'].str.len()\n",
    "    labels = labels.sort_values(['len','count'], ascending=[True, False]).drop('len', axis=1)\n",
    "    # calculate label weight for training\n",
    "    labels['weight'] = (1./labels['count']).round(4).values\n",
    "    index = pd.DataFrame.from_dict(result)\n",
    "    # set train-test split\n",
    "    index['test'] = (np.random.rand(len(index)) > 0.9).astype(int)\n",
    "    len(labels)"
   ]
  },
  {
   "cell_type": "markdown",
   "id": "67694a91",
   "metadata": {},
   "source": [
    "    labels.to_csv('./data/training-labels.csv', index=False)\n",
    "\n",
    "    # --- or if update -----------------------------------------------    \n",
    "    # update with new samples\n",
    "    #update = pd.read_csv('./data/training-labels.csv')\n",
    "    #INDEX  = update['label'].tolist()\n",
    "    #update = update.merge(labels, on='label', how='outer').fillna(1)\n",
    "    #update['count'] = update['count_x'] + update['count_y']\n",
    "    #update['weight'] = (2./update['count']).round(4).values\n",
    "    #update.set_index('label').loc[INDEX, ['count','weight']].to_csv('./data/training-labels.csv')"
   ]
  },
  {
   "cell_type": "markdown",
   "id": "f9d2959b",
   "metadata": {},
   "source": [
    "    index[['samples','proba','labels']].describe()"
   ]
  },
  {
   "cell_type": "markdown",
   "id": "00dad7ab",
   "metadata": {},
   "source": [
    "    index['filter'] = index.apply(lambda d:d['labels'] >= 16, axis=1)\n",
    "    index['filter'].sum()"
   ]
  },
  {
   "cell_type": "markdown",
   "id": "0c153064",
   "metadata": {},
   "source": [
    "    index = index.loc[index['filter'] > 0].drop('filter', axis=1)\n",
    "    index.to_csv('./data/training-index.csv', index=False)\n",
    "    \n",
    "    # --- or if update -----------------------------------------------    \n",
    "    # append to another sample from the same corpus\n",
    "    #index = pd.concat([pd.read_csv('./data/training-index.csv'), index], ignore_index=True)\n",
    "    #index.to_csv('./data/training-index.csv', index=False)"
   ]
  },
  {
   "cell_type": "markdown",
   "id": "c6dfe7ef",
   "metadata": {},
   "source": [
    "    filters = (labels['label'].str.len()==1)&(labels['count'] > 1)\n",
    "    # make an index reference for the `char`-labels appearing in the data\n",
    "    INDEX = labels[filters]['label'].tolist()\n",
    "    print(len(INDEX))\n",
    "\n",
    "    base = set(string.ascii_letters + string.digits)\n",
    "    len(base.intersection(set(INDEX[:128]))) == len(base)"
   ]
  },
  {
   "cell_type": "markdown",
   "id": "31674dd4",
   "metadata": {},
   "source": [
    "### `Dataset` class\n",
    "Characters appearance frequency is very uneven. To make representation more balanced and improve contrast in the batch we build a special dataset class: it implicitly upscales all underrepresented symbols. The `weight` we calculated above applies to this setting: frequency between sources vs. in the full corpus."
   ]
  },
  {
   "cell_type": "code",
   "execution_count": 7,
   "id": "e5ee2c3a",
   "metadata": {},
   "outputs": [],
   "source": [
    "labels = pd.read_csv('./data/training-labels.csv')\n",
    "index = pd.read_csv('./data/training-index.csv')\n",
    "\n",
    "INDEX = labels[(labels['label'].str.len()==1)&(labels['count'] > 1)]['label'].tolist()\n",
    "# add space and unknown yet\n",
    "INDEX = [' '] + INDEX + ['']"
   ]
  },
  {
   "cell_type": "code",
   "execution_count": 8,
   "id": "fad01887",
   "metadata": {},
   "outputs": [],
   "source": [
    "class TokenDataset(Dataset):\n",
    "    def __init__(self, source, labels, proba_threshold=0.8, path='training', amp=1, min_count=1, dim=32):\n",
    "        self.dim = (dim, dim)\n",
    "        self.amp = amp\n",
    "        self.labels = labels\n",
    "        data = pd.read_csv(f'./data/{path}/{source}.csv.gz')\n",
    "        filters = (data['label'].isin(self.labels))&(data['proba'] > proba_threshold)\n",
    "        self.data = data.loc[filters,:]\n",
    "        index = data[filters].groupby('label').size()\n",
    "        # having at least `min_count` samples of each\n",
    "        self.index = np.random.permutation(index[index >= min_count].index.tolist())\n",
    "        self.image = 255 - load_image(source)\n",
    "        \n",
    "    def __len__(self):\n",
    "        return len(self.index) * self.amp\n",
    "    \n",
    "    def clip(self, x, y, w, h):        \n",
    "        if y < 0:\n",
    "            y, h = 0, h + y\n",
    "        clip = self.image[y:y + h,x:x + w]\n",
    "        s = max(clip.shape)\n",
    "        square = np.zeros((s, s))\n",
    "        square[(s - h)//2:(s - h)//2 + clip.shape[0],(s - w)//2:(s - w)//2 + clip.shape[1]] = clip\n",
    "        return square/255.\n",
    "    \n",
    "    def encode(self, label):\n",
    "        if str(label) in self.labels:\n",
    "            return self.labels.index(str(label))\n",
    "        return self.labels.index('') # something new\n",
    "    \n",
    "    def get_values(self, idx):\n",
    "        columns = BOX + ['label','left-side','right-side']\n",
    "        values = self.data[self.data['label']==self.index[idx//self.amp]].sample()[columns].values[0]\n",
    "        box, label, neighbors = values[:4], values[4], values[5:]\n",
    "        return box, label, neighbors\n",
    "\n",
    "    def __getitem__(self, idx):\n",
    "        box, label, neighbors = self.get_values(idx)\n",
    "        x, y, w, h = box\n",
    "        target = self.clip(x - 1, y - 2, w + 2, h + 4)\n",
    "        X = torch.Tensor(cv2.resize(target, self.dim, cv2.INTER_AREA)).unsqueeze(0)\n",
    "        Y = torch.Tensor([self.encode(label)]).long()\n",
    "        return X, Y\n",
    "    "
   ]
  },
  {
   "cell_type": "code",
   "execution_count": 9,
   "id": "672179b3",
   "metadata": {},
   "outputs": [
    {
     "name": "stdout",
     "output_type": "stream",
     "text": [
      "Samples: 0q41vdusp,PztANfow8)TgHjV6k☐cbZ.2eam'YlMiWEy39B(xIhnS7rR:-5CF\n"
     ]
    },
    {
     "data": {
      "image/png": "[encoded data removed]",
      "text/plain": [
       "<Figure size 1000x1000 with 16 Axes>"
      ]
     },
     "metadata": {},
     "output_type": "display_data"
    },
    {
     "data": {
      "image/png": "[encoded data removed]",
      "text/plain": [
       "<Figure size 1000x1000 with 16 Axes>"
      ]
     },
     "metadata": {},
     "output_type": "display_data"
    },
    {
     "data": {
      "image/png": "[encoded data removed]",
      "text/plain": [
       "<Figure size 1000x1000 with 16 Axes>"
      ]
     },
     "metadata": {},
     "output_type": "display_data"
    },
    {
     "data": {
      "image/png": "[encoded data removed]",
      "text/plain": [
       "<Figure size 1000x1000 with 13 Axes>"
      ]
     },
     "metadata": {},
     "output_type": "display_data"
    }
   ],
   "source": [
    "def show_inputs(X, title='Input', size=(10, 10)):\n",
    "    n = len(X)\n",
    "    fig, ax = plt.subplots(1, n, figsize=size)\n",
    "    for i in range(n):\n",
    "        ax[i].imshow(X[i,:].squeeze().numpy(), 'gray')\n",
    "        ax[i].axis('off')\n",
    "    ax[0].set_title(f'{title}:  {X.shape[1:]}', fontsize=10, ha='left', x=0)\n",
    "    plt.show()\n",
    "    \n",
    "\n",
    "source = np.random.choice(index['source'])\n",
    "D = TokenDataset(source, INDEX)\n",
    "print('Samples:',''.join(D.index))\n",
    "for batch in DataLoader(D, batch_size=16):\n",
    "    if len(batch[0]) > 1:\n",
    "        show_inputs(batch[0])"
   ]
  },
  {
   "cell_type": "markdown",
   "id": "9711cbaf",
   "metadata": {},
   "source": [
    "We've got a simple token dataset. For the model training we will need [much more](Datasets.ipynb)."
   ]
  },
  {
   "cell_type": "code",
   "execution_count": null,
   "id": "d1b74320",
   "metadata": {},
   "outputs": [],
   "source": []
  },
  {
   "cell_type": "code",
   "execution_count": null,
   "id": "cc3314e6",
   "metadata": {},
   "outputs": [],
   "source": []
  }
 ],
 "metadata": {
  "kernelspec": {
   "display_name": "Python 3 (ipykernel)",
   "language": "python",
   "name": "python3"
  },
  "language_info": {
   "codemirror_mode": {
    "name": "ipython",
    "version": 3
   },
   "file_extension": ".py",
   "mimetype": "text/x-python",
   "name": "python",
   "nbconvert_exporter": "python",
   "pygments_lexer": "ipython3",
   "version": "3.10.14"
  }
 },
 "nbformat": 4,
 "nbformat_minor": 5
}
