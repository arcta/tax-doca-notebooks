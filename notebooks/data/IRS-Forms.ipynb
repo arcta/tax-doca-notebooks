{
 "cells": [
  {
   "cell_type": "markdown",
   "id": "adb97b3c",
   "metadata": {},
   "source": [
    "# Download IRS forms\n",
    "This notebook gently scrapes the current pdf-forms from the public website.\n",
    "\n",
    "(The download page (multiple) has a table with forms names, descriptions, and direct links to the pdf files.)"
   ]
  },
  {
   "cell_type": "code",
   "execution_count": null,
   "id": "d9391ecb",
   "metadata": {},
   "outputs": [],
   "source": [
    "import re\n",
    "import requests\n",
    "import pandas as pd\n",
    "import numpy as np\n",
    "\n",
    "from bs4 import BeautifulSoup\n",
    "from time import time, sleep\n",
    "from pathlib import Path"
   ]
  },
  {
   "cell_type": "code",
   "execution_count": null,
   "id": "7ff2092b",
   "metadata": {},
   "outputs": [],
   "source": [
    "# remove the old download\n",
    "#!rm -rf forms/irs-*"
   ]
  },
  {
   "cell_type": "code",
   "execution_count": null,
   "id": "dbe9a973",
   "metadata": {},
   "outputs": [],
   "source": [
    "URL = 'https://www.irs.gov'"
   ]
  },
  {
   "cell_type": "code",
   "execution_count": null,
   "id": "7491df9e",
   "metadata": {},
   "outputs": [],
   "source": [
    "def download_pdf(path: str) -> str:\n",
    "    \"\"\"\n",
    "    download pdf-file specified by URL path and save in `forms` folder with prefix `irs-`\n",
    "    return: saved file name\n",
    "    \"\"\"\n",
    "    name = path.split('/')[-1]\n",
    "    response = requests.get(f'{URL}{path}')\n",
    "    with open(f'forms/irs-{name}','wb') as output:\n",
    "        output.write(response.content)\n",
    "    return f'irs-{name}'\n"
   ]
  },
  {
   "cell_type": "code",
   "execution_count": null,
   "id": "69f94a7a",
   "metadata": {},
   "outputs": [],
   "source": [
    "def get_all_forms(num_pages: int, max_wait: int = 10) -> list:\n",
    "    \"\"\"\n",
    "    download all forms with descriptions\n",
    "    return: list of info-dictionaries\n",
    "    \"\"\"\n",
    "    records = []\n",
    "    for page in range(1, num_pages):\n",
    "        html = requests.get(f'{URL}/forms-instructions-and-publications?items_per_page=25&find=&page={page}').text\n",
    "        soup = BeautifulSoup(html, 'html.parser').find('tbody')\n",
    "        if soup is None:\n",
    "            continue\n",
    "        trs = soup.find_all('tr') or []\n",
    "        for tr in trs:\n",
    "            td = tr.find_all('td')\n",
    "            a = td[0].find('a')\n",
    "            if a.text.startswith('Form ') and re.match(fr'\\/pub\\/irs\\-pdf\\/f\\w+\\.pdf', a['href']):\n",
    "                name = a.text.strip()[5:]\n",
    "                desc = td[1].text.strip()\n",
    "                file = download_pdf(a['href'])\n",
    "                # collect metadata\n",
    "                records.append({'type':name, 'desc':desc, 'path':a['href'], 'file':file })\n",
    "                # let the server breath...\n",
    "                sleep(np.random.randint(1, max_wait))\n",
    "        # save intermediate results\n",
    "        pd.DataFrame.from_dict(records).to_csv('irs-forms.tmp.csv', index=False)\n",
    "        print(f'done: {page/num_pages:.2%}', end='\\r')\n",
    "    ok = len([x for x in Path('forms').glob('irs*.pdf')])/num_pages\n",
    "    print(f'all done: downloaded {ok:.2%}')\n",
    "    return records\n"
   ]
  },
  {
   "cell_type": "code",
   "execution_count": null,
   "id": "6bb3d1e1",
   "metadata": {},
   "outputs": [],
   "source": [
    "# consult the site for num-pages\n",
    "num_pages = 110\n",
    "# run download\n",
    "records = get_all_forms(num_pages, max_wait=15)\n",
    "# save metatdata\n",
    "pd.DataFrame.from_dict(records).to_csv('irs-forms.csv', index=False)"
   ]
  },
  {
   "cell_type": "code",
   "execution_count": null,
   "id": "22a0924c",
   "metadata": {},
   "outputs": [],
   "source": [
    "# check result\n",
    "data = pd.read_csv('irs-forms.csv')\n",
    "data"
   ]
  },
  {
   "cell_type": "code",
   "execution_count": null,
   "id": "60725f5a",
   "metadata": {},
   "outputs": [],
   "source": [
    "def get_lang(r: dict) -> str:\n",
    "    \"\"\"\n",
    "    extract document language\n",
    "    which appears at the end of `description` field like ... (Spanish Version)\n",
    "    or at the end of `type` field as ... (sp)\n",
    "    \"\"\"\n",
    "    match = re.match(r'.* \\((.*) version\\)$', r['desc'].lower())\n",
    "    if match is None:\n",
    "        match = re.match(r'.* \\(([a-z]{2})\\)$', r['type'].lower())\n",
    "        if match is None:\n",
    "            return 'en'\n",
    "        return match.group(1)\n",
    "    return match.group(1)\n",
    "\n",
    "data['lang'] = data.apply(get_lang, axis=1)\n",
    "data"
   ]
  },
  {
   "cell_type": "code",
   "execution_count": null,
   "id": "773cf5f6",
   "metadata": {},
   "outputs": [],
   "source": [
    "# normalize some most common as two-letter\n",
    "data.loc[data['lang']=='spanish','lang'] = 'sp'\n",
    "data.loc[data['lang'].str.startswith('puerto ri'),'lang'] = 'pr'"
   ]
  },
  {
   "cell_type": "code",
   "execution_count": null,
   "id": "9eb4c84b",
   "metadata": {},
   "outputs": [],
   "source": [
    "# see language stats\n",
    "data.groupby('lang').size().sort_values(ascending=False)"
   ]
  },
  {
   "cell_type": "code",
   "execution_count": null,
   "id": "5493d032",
   "metadata": {},
   "outputs": [],
   "source": [
    "# remove language info from the `type` field\n",
    "data.loc[data['lang'] != 'en','type'] = data.loc[data['lang'] != 'en','type'].apply(lambda x:x.split(' (')[0])\n",
    "# see type stats\n",
    "data.groupby('type').size().sort_values(ascending=False)"
   ]
  },
  {
   "cell_type": "code",
   "execution_count": null,
   "id": "e0e4b1c4",
   "metadata": {},
   "outputs": [],
   "source": [
    "# make sure there's no duplicates\n",
    "(data.groupby('file').size() > 1).sum()"
   ]
  },
  {
   "cell_type": "markdown",
   "id": "6ff8c0b2",
   "metadata": {},
   "source": [
    "IRS forms are labeled with numeric patterns mostly, there are few labeled with letters (W). Each type may have subdivisions we put in the separate `ext` column."
   ]
  },
  {
   "cell_type": "code",
   "execution_count": null,
   "id": "270966dd",
   "metadata": {},
   "outputs": [],
   "source": [
    "def get_type(x):\n",
    "    \"\"\"\n",
    "    separate the main type definition\n",
    "    \"\"\"\n",
    "    match = re.match(r'^(\\w+)(\\W(.*))?$', x)\n",
    "    return match.group(1)\n",
    "\n",
    "def get_ext(x):\n",
    "    \"\"\"\n",
    "    separate type-extras from the main type definition\n",
    "    \"\"\"\n",
    "    match = re.match(r'^(\\w+)(\\W(.*))?$', x)\n",
    "    return match.group(3)\n",
    "\n",
    "def fix_ext(x):\n",
    "    \"\"\"\n",
    "    normalize type-extras format\n",
    "    \"\"\"\n",
    "    if x == '(EN-SP)':\n",
    "        return None\n",
    "    if type(x) == str:\n",
    "        x = x.replace('Schedule','Sch')\n",
    "        x = x.replace(' 990-','')\n",
    "        x = x.replace('orEZ','EZ')\n",
    "        x = x.replace('990PF','PF')\n",
    "    return x\n",
    "\n",
    "data['ext'] = data['type'].apply(get_ext)\n",
    "data['type'] = data['type'].apply(get_type)\n",
    "data['ext'] = data['ext'].apply(fix_ext)\n",
    "data"
   ]
  },
  {
   "cell_type": "code",
   "execution_count": null,
   "id": "3155ec13",
   "metadata": {},
   "outputs": [],
   "source": [
    "# save final metadata\n",
    "data[['type','ext','desc','path','file','lang']].to_csv('irs-forms.csv', index=False)"
   ]
  },
  {
   "cell_type": "code",
   "execution_count": null,
   "id": "da4a9099",
   "metadata": {},
   "outputs": [],
   "source": [
    "# downloaded vs metadata\n",
    "len([x for x in Path('forms').glob('irs*.pdf')]) == len(data[~data['file'].isna()])"
   ]
  },
  {
   "cell_type": "code",
   "execution_count": null,
   "id": "61073fe9",
   "metadata": {},
   "outputs": [],
   "source": [
    "#!rm irs-forms.tmp.csv"
   ]
  },
  {
   "cell_type": "code",
   "execution_count": null,
   "id": "7ee420cf",
   "metadata": {},
   "outputs": [],
   "source": [
    "# cleanup for classification\n",
    "data = pd.read_csv('irs-forms.csv')\n",
    "data.loc[data['type']=='13614','ext'] = data.loc[data['type']=='13614','file'].apply(lambda x:x[10:-4].upper())\n",
    "data['sub'] = data['ext']\n",
    "loc = ~data['sub'].isna()\n",
    "data.loc[loc,'sub'] = data.loc[loc,'sub'].apply(lambda x:str(x).split())\n",
    "data.loc[loc,'sub'] = data.loc[loc,'sub'].apply(lambda x:x[0] if x[0][0] != '(' else None)\n",
    "loc = ~data['sub'].isna()\n",
    "data.loc[loc,'sub'] = data.loc[loc,'sub'].apply(lambda x:re.split(r'\\W+', str(x))[0])\n",
    "data.loc[loc,'sub'] = data.loc[loc,'sub'].apply(lambda x:x[0] if re.match(r'\\d\\D+', x) else x)\n",
    "data.loc[loc,'ext'] = data.loc[loc,:].apply(lambda r:str(r['ext'])[len(str(r['sub'])):].strip(' -'), axis=1)\n",
    "data.to_csv('irs-forms.csv', index=False)"
   ]
  },
  {
   "cell_type": "code",
   "execution_count": null,
   "id": "9b7d98cc",
   "metadata": {},
   "outputs": [],
   "source": [
    "# correction for better pattern matching\n",
    "data = pd.read_csv('irs-forms.csv')\n",
    "select = data[(~data['sub'].isna())&(data['sub'].str.match(r'^[A-Z]+$'))].index\n",
    "data.loc[select,'ext'] = data.loc[select,['ext','sub']]\\\n",
    "    .apply(lambda r:f\"{r['sub']} {r['ext']}\".replace(' nan',''), axis=1)\n",
    "data.loc[select,'sub'] = None\n",
    "data.fillna('').astype(str).to_csv('irs-forms.csv', index=False)"
   ]
  },
  {
   "cell_type": "code",
   "execution_count": null,
   "id": "a4024105",
   "metadata": {},
   "outputs": [],
   "source": []
  }
 ],
 "metadata": {
  "kernelspec": {
   "display_name": "Python 3 (ipykernel)",
   "language": "python",
   "name": "python3"
  },
  "language_info": {
   "codemirror_mode": {
    "name": "ipython",
    "version": 3
   },
   "file_extension": ".py",
   "mimetype": "text/x-python",
   "name": "python",
   "nbconvert_exporter": "python",
   "pygments_lexer": "ipython3",
   "version": "3.10.12"
  }
 },
 "nbformat": 4,
 "nbformat_minor": 5
}
