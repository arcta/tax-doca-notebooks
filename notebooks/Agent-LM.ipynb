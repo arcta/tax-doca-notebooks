{
 "cells": [
  {
   "cell_type": "markdown",
   "id": "3f24b854",
   "metadata": {},
   "source": [
    "# OCR Agent from scratch:\n",
    "\n",
    "* [Data](./Data-Sources.ipynb)\n",
    "* [Utilities](./Data-Processing.ipynb)\n",
    "* [Extract layout features and visual tokens](./Data-Extraction-2.ipynb)\n",
    "* [Generate training data](./Data-Extraction-3.ipynb)\n",
    "* [Model architecture](./Model-Backbone.ipynb)\n",
    "* [Traversal strategies](./Traversal-Layout.ipynb)\n",
    "* Reader Agent\n",
    "    * Wire language model in\n",
    "    * [Set RAG utilities](./Agent-RAG.ipynb)\n",
    "    * [Define FSM](./Agent-FSM.ipynb)\n",
    "    * [Reinforcement learning setup](./Agent-RL.ipynb)\n",
    "* [Leverage synthetic training data](./Data-Gen.ipynb)\n",
    "* [Optimization for production](./Optimization.ipynb)\n",
    "\n",
    "### Language Model\n",
    "Our nearsighted agent-reader could use some help from some language model:\n",
    "* fix misses like word aggregation (space presence) and the characters looking the same (`l,I,1`)\n",
    "* find next text-block in the case of cross-block text aggregation\n",
    "* form fields key-value attribution\n",
    "\n",
    "This language model would be dealing with short sequences and should be local and (preferably) handled by char-level tokenizer. This project has limited vocabulary -- we should be able to build this model easily from scratch. All we need for this agent is to be able to predict the next token to support visual impression, ant predict most probable next word or two to find the next layout block.\n",
    "Let's train our own `GPT`."
   ]
  },
  {
   "cell_type": "code",
   "execution_count": 1,
   "id": "1d5eacfd",
   "metadata": {},
   "outputs": [],
   "source": [
    "import json\n",
    "import torch\n",
    "import numpy as np\n",
    "import pandas as pd\n",
    "\n",
    "import warnings\n",
    "warnings.filterwarnings('ignore')\n",
    "\n",
    "from PIL import Image\n",
    "from matplotlib import pyplot as plt\n",
    "\n",
    "from torch import nn\n",
    "from torch.utils.data import DataLoader, Dataset\n",
    "from torch.utils.tensorboard import SummaryWriter\n",
    "from torch.optim import SGD, AdamW\n",
    "from torchsummary import summary\n",
    "from torchmetrics import ConfusionMatrix\n",
    "\n",
    "#torch.manual_seed(16)"
   ]
  },
  {
   "cell_type": "code",
   "execution_count": 2,
   "id": "f4c68992",
   "metadata": {},
   "outputs": [],
   "source": [
    "from scripts.dataset import *\n",
    "from scripts.training import *"
   ]
  },
  {
   "cell_type": "code",
   "execution_count": 3,
   "id": "ccd80787",
   "metadata": {},
   "outputs": [
    {
     "name": "stdout",
     "output_type": "stream",
     "text": [
      "GPU\n"
     ]
    }
   ],
   "source": [
    "torch.cuda.empty_cache()\n",
    "print('GPU' if DEVICE == 'cuda' else 'no GPU')"
   ]
  },
  {
   "cell_type": "markdown",
   "id": "082ed4bb",
   "metadata": {},
   "source": [
    "### Tokenizer\n",
    "Our class-index build with some extra room targeting online-learning."
   ]
  },
  {
   "cell_type": "code",
   "execution_count": 4,
   "id": "d9c8be72",
   "metadata": {},
   "outputs": [
    {
     "data": {
      "text/plain": [
       "' aeongsitfmpudlcrPbv(h2C1.)xSI-,DyFRA0EB34N5Tq6M7L98wUzOGjk\\'H/YéàV•:☐$J%èQêWç?ôZù»+K;▶X◀É\"*ûâÀ°&▲«[îÎ]œ=✓#Ô±½@È¼§Êº▼ó>≤ñ!áäìöÂ_¢÷Œ¾ü{ú}©ëåÇí'"
      ]
     },
     "execution_count": 4,
     "metadata": {},
     "output_type": "execute_result"
    }
   ],
   "source": [
    "''.join(INDEX)"
   ]
  },
  {
   "cell_type": "code",
   "execution_count": 5,
   "id": "f35ff0e5",
   "metadata": {},
   "outputs": [
    {
     "data": {
      "text/plain": [
       "[132, 133, 134, 135, 136, 137, 138, 139, 155]"
      ]
     },
     "execution_count": 5,
     "metadata": {},
     "output_type": "execute_result"
    }
   ],
   "source": [
    "class CharacterLevelTokenizer:\n",
    "    def __init__(self, labels: list):\n",
    "        vocab = ''.join(labels)\n",
    "        self.vocab = vocab + '☹' * (len(labels) - len(vocab)) # unknowns at the end\n",
    "        self.size= len(self.vocab)        \n",
    "        self.index = { s:i for i, s in enumerate(self.vocab) }\n",
    "        \n",
    "    def encode(self, x: str):\n",
    "        return [self.index[c] if c in self.index else self.index['☹'] for c in x]\n",
    "\n",
    "    def decode(self, x: list):\n",
    "        return ''.join([self.vocab[int(x[i])] for i in range(len(x))])\n",
    "\n",
    "\n",
    "tokenizer = CharacterLevelTokenizer(INDEX)\n",
    "tokenizer.encode('{ú}©ëåÇí~')"
   ]
  },
  {
   "cell_type": "code",
   "execution_count": 6,
   "id": "79edbfc0",
   "metadata": {},
   "outputs": [
    {
     "data": {
      "text/plain": [
       "156"
      ]
     },
     "execution_count": 6,
     "metadata": {},
     "output_type": "execute_result"
    }
   ],
   "source": [
    "vocab_size = tokenizer.size\n",
    "vocab_size"
   ]
  },
  {
   "cell_type": "markdown",
   "id": "ecec6bd2",
   "metadata": {},
   "source": [
    "### Data\n",
    "The content of pdf-files as we've seen is not very reliable for spacial layout labeling, but good enough for the text sequence overall."
   ]
  },
  {
   "cell_type": "code",
   "execution_count": 7,
   "id": "0fca9687",
   "metadata": {},
   "outputs": [
    {
     "data": {
      "text/plain": [
       "8516"
      ]
     },
     "execution_count": 7,
     "metadata": {},
     "output_type": "execute_result"
    }
   ],
   "source": [
    "samples = trainset + testset\n",
    "len(samples)"
   ]
  },
  {
   "cell_type": "code",
   "execution_count": 8,
   "id": "1bd6e9df",
   "metadata": {},
   "outputs": [
    {
     "data": {
      "text/html": [
       "<style type=\"text/css\">\n",
       "#T_342f2_row0_col0 {\n",
       "  background-color: #f2ecf5;\n",
       "  color: #000000;\n",
       "}\n",
       "#T_342f2_row0_col1 {\n",
       "  background-color: #afc1dd;\n",
       "  color: #000000;\n",
       "}\n",
       "#T_342f2_row0_col2 {\n",
       "  background-color: #f1ebf4;\n",
       "  color: #000000;\n",
       "}\n",
       "#T_342f2_row1_col0, #T_342f2_row3_col0 {\n",
       "  background-color: #f9f2f8;\n",
       "  color: #000000;\n",
       "}\n",
       "#T_342f2_row1_col1 {\n",
       "  background-color: #f4edf6;\n",
       "  color: #000000;\n",
       "}\n",
       "#T_342f2_row1_col2 {\n",
       "  background-color: #f5eef6;\n",
       "  color: #000000;\n",
       "}\n",
       "#T_342f2_row2_col0, #T_342f2_row2_col1, #T_342f2_row2_col2 {\n",
       "  background-color: #fff7fb;\n",
       "  color: #000000;\n",
       "}\n",
       "#T_342f2_row3_col1 {\n",
       "  background-color: #d1d2e6;\n",
       "  color: #000000;\n",
       "}\n",
       "#T_342f2_row3_col2 {\n",
       "  background-color: #f8f1f8;\n",
       "  color: #000000;\n",
       "}\n",
       "#T_342f2_row4_col0 {\n",
       "  background-color: #f5eff6;\n",
       "  color: #000000;\n",
       "}\n",
       "#T_342f2_row4_col1 {\n",
       "  background-color: #acc0dd;\n",
       "  color: #000000;\n",
       "}\n",
       "#T_342f2_row4_col2 {\n",
       "  background-color: #f4eef6;\n",
       "  color: #000000;\n",
       "}\n",
       "#T_342f2_row5_col0 {\n",
       "  background-color: #f0eaf4;\n",
       "  color: #000000;\n",
       "}\n",
       "#T_342f2_row5_col1 {\n",
       "  background-color: #88b1d4;\n",
       "  color: #000000;\n",
       "}\n",
       "#T_342f2_row5_col2 {\n",
       "  background-color: #ede7f2;\n",
       "  color: #000000;\n",
       "}\n",
       "#T_342f2_row6_col0, #T_342f2_row6_col1, #T_342f2_row6_col2 {\n",
       "  background-color: #023858;\n",
       "  color: #f1f1f1;\n",
       "}\n",
       "</style>\n",
       "<table id=\"T_342f2\">\n",
       "  <thead>\n",
       "    <tr>\n",
       "      <th class=\"blank level0\" >&nbsp;</th>\n",
       "      <th id=\"T_342f2_level0_col0\" class=\"col_heading level0 col0\" >word</th>\n",
       "      <th id=\"T_342f2_level0_col1\" class=\"col_heading level0 col1\" >line</th>\n",
       "      <th id=\"T_342f2_level0_col2\" class=\"col_heading level0 col2\" >block</th>\n",
       "    </tr>\n",
       "  </thead>\n",
       "  <tbody>\n",
       "    <tr>\n",
       "      <th id=\"T_342f2_level0_row0\" class=\"row_heading level0 row0\" >mean</th>\n",
       "      <td id=\"T_342f2_row0_col0\" class=\"data row0 col0\" >22.322100</td>\n",
       "      <td id=\"T_342f2_row0_col1\" class=\"data row0 col1\" >128.598286</td>\n",
       "      <td id=\"T_342f2_row0_col2\" class=\"data row0 col2\" >538.922499</td>\n",
       "    </tr>\n",
       "    <tr>\n",
       "      <th id=\"T_342f2_level0_row1\" class=\"row_heading level0 row1\" >std</th>\n",
       "      <td id=\"T_342f2_row1_col0\" class=\"data row1 col0\" >14.250125</td>\n",
       "      <td id=\"T_342f2_row1_col1\" class=\"data row1 col1\" >42.524777</td>\n",
       "      <td id=\"T_342f2_row1_col2\" class=\"data row1 col2\" >399.816025</td>\n",
       "    </tr>\n",
       "    <tr>\n",
       "      <th id=\"T_342f2_level0_row2\" class=\"row_heading level0 row2\" >min</th>\n",
       "      <td id=\"T_342f2_row2_col0\" class=\"data row2 col0\" >7.000000</td>\n",
       "      <td id=\"T_342f2_row2_col1\" class=\"data row2 col1\" >19.000000</td>\n",
       "      <td id=\"T_342f2_row2_col2\" class=\"data row2 col2\" >20.000000</td>\n",
       "    </tr>\n",
       "    <tr>\n",
       "      <th id=\"T_342f2_level0_row3\" class=\"row_heading level0 row3\" >25%</th>\n",
       "      <td id=\"T_342f2_row3_col0\" class=\"data row3 col0\" >14.000000</td>\n",
       "      <td id=\"T_342f2_row3_col1\" class=\"data row3 col1\" >97.000000</td>\n",
       "      <td id=\"T_342f2_row3_col2\" class=\"data row3 col2\" >270.000000</td>\n",
       "    </tr>\n",
       "    <tr>\n",
       "      <th id=\"T_342f2_level0_row4\" class=\"row_heading level0 row4\" >50%</th>\n",
       "      <td id=\"T_342f2_row4_col0\" class=\"data row4 col0\" >18.000000</td>\n",
       "      <td id=\"T_342f2_row4_col1\" class=\"data row4 col1\" >131.000000</td>\n",
       "      <td id=\"T_342f2_row4_col2\" class=\"data row4 col2\" >426.000000</td>\n",
       "    </tr>\n",
       "    <tr>\n",
       "      <th id=\"T_342f2_level0_row5\" class=\"row_heading level0 row5\" >75%</th>\n",
       "      <td id=\"T_342f2_row5_col0\" class=\"data row5 col0\" >25.000000</td>\n",
       "      <td id=\"T_342f2_row5_col1\" class=\"data row5 col1\" >161.000000</td>\n",
       "      <td id=\"T_342f2_row5_col2\" class=\"data row5 col2\" >701.000000</td>\n",
       "    </tr>\n",
       "    <tr>\n",
       "      <th id=\"T_342f2_level0_row6\" class=\"row_heading level0 row6\" >max</th>\n",
       "      <td id=\"T_342f2_row6_col0\" class=\"data row6 col0\" >180.000000</td>\n",
       "      <td id=\"T_342f2_row6_col1\" class=\"data row6 col1\" >333.000000</td>\n",
       "      <td id=\"T_342f2_row6_col2\" class=\"data row6 col2\" >5516.000000</td>\n",
       "    </tr>\n",
       "  </tbody>\n",
       "</table>\n"
      ],
      "text/plain": [
       "<pandas.io.formats.style.Styler at 0x7ff4f028f070>"
      ]
     },
     "execution_count": 8,
     "metadata": {},
     "output_type": "execute_result"
    }
   ],
   "source": [
    "    # get some stats on the corpus sequence length\n",
    "    stats = []\n",
    "    for source in samples:\n",
    "        data = pd.read_csv(f'./data/content/{source}.csv.gz')\n",
    "        stats.append({x:data[data['block-type']==x]['text'].str.len().max() for x in ['word','line','block']})\n",
    "\n",
    "    pd.DataFrame.from_dict(stats).describe().iloc[1:,:].style.background_gradient()"
   ]
  },
  {
   "cell_type": "code",
   "execution_count": 9,
   "id": "55ea63e7",
   "metadata": {},
   "outputs": [],
   "source": [
    "class ContentDataset(Dataset):\n",
    "    def __init__(self, source: str, labels: list, seq_length: int = 32, level: str = 'word'):\n",
    "        self.seq_length = seq_length\n",
    "        self.tokenizer = CharacterLevelTokenizer(labels)\n",
    "        data = pd.read_csv(f'./data/content/{source}.csv.gz')\n",
    "        data = data.loc[data['block-type']==level,'text'].astype(str).apply(str.strip).to_list()\n",
    "        self.data = (' ' if level == 'word' else '\\n').join(data)\n",
    "        \n",
    "    def __len__(self):\n",
    "        return len(self.data)\n",
    "    \n",
    "    def make_seq(self, i):\n",
    "        s = list(self.data[i:i + self.seq_length])\n",
    "        s += [' '] * (self.seq_length - len(s))\n",
    "        return torch.Tensor(self.tokenizer.encode(s)).long()\n",
    "    \n",
    "    def __getitem__(self, idx):\n",
    "        return self.make_seq(idx), self.make_seq(idx + 1)\n"
   ]
  },
  {
   "cell_type": "code",
   "execution_count": 10,
   "id": "03380d15",
   "metadata": {},
   "outputs": [],
   "source": [
    "source = np.random.choice(testset)"
   ]
  },
  {
   "cell_type": "code",
   "execution_count": 11,
   "id": "7dcbee3d",
   "metadata": {},
   "outputs": [
    {
     "name": "stdout",
     "output_type": "stream",
     "text": [
      "irs-f8995ac-0\n"
     ]
    },
    {
     "data": {
      "text/plain": [
       "'SCHEDULE C (Form 8995-A) 2021 Loss Netting and Carryforward Department of the Treasury Internal Revenue Service ▶ Attach to Form 8995-A. ▶ Go to www.irs.gov/Form8995A for instructions and the latest information. OMB No. 1545-2294 Attachment Sequence No. 55D Name(s) shown on return Your taxpayer identification number If you have more than three trades, businesses, or aggregations, complete and attach as many Schedules C as needed. See instructions. 1 ( ) ( ) ( ) Trade, business, or aggregation name (a) Qualified business income/(loss) (b) Reduction for loss netting (see instructions) (c) Adjusted qualified business income (Combine (a) and (b). If zero or less, enter -0-.) 2 Qualified business net (loss) carryforward from prior years. See instructions . . . . . . . . . 2 ( ) 3 Total of the trades, businesses, or aggregations losses. Combine the negative amounts on lines 1, column (a), and 2 for all trades, businesses, or aggregations . . . . . . . . . . . . . . 3 ( ) 4 Total of the trades, businesses, or aggregations income. Add the positive amounts on line 1, column (a), for all trades, businesses, or aggregations . . . . . . . . . . . . . . . . . . . 4 5 Losses netted with income of other trades, businesses, or aggregations. Enter in the parentheses on line 5 the smaller of the absolute value of line 3 or line 4. Allocate this amount to each of the trades, businesses, or aggregations on line 1, column (b) . . . . . . . . . . . . . . . . . 5 ( ) 6 Qualified business net (loss) carryforward. Subtract line 5 from line 3. If zero or more, enter -0- . . 6 ( ) For Privacy Act and Paperwork Reduction Act Notice, see separate instructions. Cat. No. 72684K Schedule C (Form 8995-A) 2021'"
      ]
     },
     "execution_count": 11,
     "metadata": {},
     "output_type": "execute_result"
    }
   ],
   "source": [
    "print(source)\n",
    "D = ContentDataset(source, INDEX)\n",
    "D.data"
   ]
  },
  {
   "cell_type": "code",
   "execution_count": 12,
   "id": "7d36e298",
   "metadata": {},
   "outputs": [
    {
     "name": "stdout",
     "output_type": "stream",
     "text": [
      ">>> SCHEDULE C (Form 8995-A) 2021 Lo\n",
      "<<< CHEDULE C (Form 8995-A) 2021 Los\n",
      ">>> CHEDULE C (Form 8995-A) 2021 Los\n",
      "<<< HEDULE C (Form 8995-A) 2021 Loss\n",
      ">>> HEDULE C (Form 8995-A) 2021 Loss\n",
      "<<< EDULE C (Form 8995-A) 2021 Loss \n",
      ">>> EDULE C (Form 8995-A) 2021 Loss \n",
      "<<< DULE C (Form 8995-A) 2021 Loss N\n",
      ">>> DULE C (Form 8995-A) 2021 Loss N\n",
      "<<< ULE C (Form 8995-A) 2021 Loss Ne\n",
      ">>> ULE C (Form 8995-A) 2021 Loss Ne\n",
      "<<< LE C (Form 8995-A) 2021 Loss Net\n",
      ">>> LE C (Form 8995-A) 2021 Loss Net\n",
      "<<< E C (Form 8995-A) 2021 Loss Nett\n",
      ">>> E C (Form 8995-A) 2021 Loss Nett\n",
      "<<<  C (Form 8995-A) 2021 Loss Netti\n",
      "\n",
      " torch.Size([8, 32]) torch.Size([8, 32])\n"
     ]
    }
   ],
   "source": [
    "for X, Y in DataLoader(D, batch_size=8, shuffle=False):\n",
    "    for i in range(len(X)):\n",
    "        print('>>>', tokenizer.decode(X[i].numpy().squeeze()))\n",
    "        print('<<<', tokenizer.decode(Y[i].numpy().squeeze()))\n",
    "    break\n",
    "print('\\n', X.shape, Y.shape)"
   ]
  },
  {
   "cell_type": "markdown",
   "id": "92088876",
   "metadata": {},
   "source": [
    "### GPT Model"
   ]
  },
  {
   "cell_type": "code",
   "execution_count": 13,
   "id": "d47dae62",
   "metadata": {},
   "outputs": [],
   "source": [
    "class AttentionHead(nn.Module):\n",
    "    def __init__(self, embed_size: int, seq_length: int, head_size: int,\n",
    "                       dropout: float = 0.5):\n",
    "        super().__init__()\n",
    "        self.seq_length = seq_length\n",
    "        self.embed_size = embed_size\n",
    "        self.head_size = head_size\n",
    "        \n",
    "        self.key   = nn.Linear(self.embed_size, self.head_size, bias=False)\n",
    "        self.query = nn.Linear(self.embed_size, self.head_size, bias=False)        \n",
    "        self.value = nn.Linear(self.embed_size, self.head_size, bias=False)\n",
    "        self.softmax = nn.Softmax(dim=-1)\n",
    "        self.register_buffer('tril', torch.tril(torch.ones(self.seq_length, self.seq_length)))        \n",
    "        self.dropout = nn.Dropout(dropout)\n",
    "\n",
    "    def forward(self, x):\n",
    "        b, t, c = x.shape\n",
    "        K, Q, V = self.key(x), self.query(x), self.value(x)\n",
    "        W = Q @ K.transpose(-2, -1) * (c ** 0.5)\n",
    "        W = W.masked_fill(self.tril[:t,:t]==0, float('-inf'))\n",
    "        W = self.softmax(W)\n",
    "        W = self.dropout(W)\n",
    "        return W @ V\n",
    "    "
   ]
  },
  {
   "cell_type": "code",
   "execution_count": 14,
   "id": "5b6d0479",
   "metadata": {},
   "outputs": [],
   "source": [
    "class MultiHeadAttention(nn.Module):\n",
    "    def __init__(self, embed_size: int, seq_length: int, num_heads: int,\n",
    "                       dropout: float = 0.5):\n",
    "        super().__init__()\n",
    "        self.num_heads = num_heads\n",
    "        head_size = embed_size // num_heads        \n",
    "        self.heads = nn.ModuleList([AttentionHead(embed_size, seq_length, head_size) for _ in range(num_heads)])\n",
    "        self.projection = nn.Linear(embed_size, embed_size)        \n",
    "        self.dropout = nn.Dropout(dropout)\n",
    "    \n",
    "    def forward(self, x):\n",
    "        x = torch.cat([h(x) for h in self.heads], dim=-1)\n",
    "        x = self.projection(x)\n",
    "        x = self.dropout(x)\n",
    "        return x\n",
    "    "
   ]
  },
  {
   "cell_type": "code",
   "execution_count": 15,
   "id": "1ea1c295",
   "metadata": {},
   "outputs": [],
   "source": [
    "class TransformerBlock(nn.Module):\n",
    "    def __init__(self, embed_size: int, seq_length: int, num_heads: int,\n",
    "                       expansion: int = 4, dropout: float = 0.5):\n",
    "        super().__init__()\n",
    "        self.attn = MultiHeadAttention(embed_size, seq_length, num_heads)\n",
    "        self.attn_norm = nn.LayerNorm(embed_size)\n",
    "        self.feed = nn.Sequential(\n",
    "            nn.Linear(embed_size, embed_size * expansion),\n",
    "            nn.ReLU(),\n",
    "            nn.Linear(embed_size * expansion, embed_size),\n",
    "            nn.Dropout(dropout))\n",
    "        self.feed_norm = nn.LayerNorm(embed_size)\n",
    "\n",
    "    def forward(self, x):\n",
    "        x = x + self.attn(self.attn_norm(x))\n",
    "        x = x + self.feed(self.feed_norm(x))        \n",
    "        return x\n",
    "    "
   ]
  },
  {
   "cell_type": "code",
   "execution_count": 16,
   "id": "ced96f8e",
   "metadata": {},
   "outputs": [],
   "source": [
    "class ContentGPT(nn.Module):\n",
    "    def __init__(self, vocab_size: int, embed_size: int, seq_length: int,\n",
    "                       num_heads: int = 8, num_blocks: int = 3):\n",
    "        super().__init__()        \n",
    "        self.embed_size = embed_size\n",
    "        self.seq_length = seq_length        \n",
    "        self.token_embed = nn.Embedding(vocab_size, embed_size)\n",
    "        self.pos_embed   = nn.Embedding(seq_length, embed_size)        \n",
    "        self.blocks = nn.Sequential(\n",
    "            *[TransformerBlock(embed_size, seq_length, num_heads)] * num_blocks,\n",
    "            nn.LayerNorm(embed_size) )\n",
    "        self.lm_head = nn.Linear(embed_size, vocab_size)\n",
    "        \n",
    "    def forward(self, x):\n",
    "        E, P = self.token_embed(x), self.pos_embed(torch.arange(x.shape[1], device=DEVICE))\n",
    "        return self.lm_head(self.blocks(E + P))\n",
    "    \n",
    "    @torch.no_grad\n",
    "    def get_proba(self, x):\n",
    "        return nn.functional.softmax(self(x)[0,-1, :], dim=-1)\n",
    "    \n",
    "    @torch.no_grad\n",
    "    def generate(self, x, total, num_samples=1):\n",
    "        output = []\n",
    "        for _ in range(num_samples):\n",
    "            h = x\n",
    "            for _ in range(total):\n",
    "                context = h[:,-self.seq_length:]\n",
    "                logits= self(context)[:,-1,:]\n",
    "                proba = nn.functional.softmax(logits, dim=-1)\n",
    "                h = torch.cat((h, torch.multinomial(proba, num_samples=1)), dim=1)\n",
    "            output.append(h)\n",
    "        return output\n",
    "    \n",
    "    @torch.no_grad\n",
    "    def get_top_k(self, x, k: int = 10, length: int = 5):\n",
    "        proba = self.get_proba(x)\n",
    "        top_k = torch.topk(proba, k).indices\n",
    "        h = [torch.cat((x, top_k[i].reshape((1, 1))), dim=1) for i in range(k)]\n",
    "        p = proba[top_k.tolist()]\n",
    "        for _ in range(length):\n",
    "            for i in range(k):\n",
    "                proba = self.get_proba(h[i])\n",
    "                top = torch.topk(proba, 1).indices\n",
    "                h[i] = torch.cat((h[i], top.reshape((1, 1))), dim=1)\n",
    "                p[i] *= proba[top.item()]\n",
    "        return h, p.cpu().numpy()\n"
   ]
  },
  {
   "cell_type": "markdown",
   "id": "0f858fc4",
   "metadata": {},
   "source": [
    "### Training"
   ]
  },
  {
   "cell_type": "code",
   "execution_count": 17,
   "id": "ca645538",
   "metadata": {},
   "outputs": [],
   "source": [
    "class ContentLoss(nn.Module):\n",
    "    def __init__(self):\n",
    "        super().__init__()\n",
    "        self.loss = nn.CrossEntropyLoss()\n",
    "        \n",
    "    def forward(self, logits, targets):\n",
    "        b, t, c = logits.shape\n",
    "        return self.loss(logits.view(b * t, c), targets.view(b * t))\n"
   ]
  },
  {
   "cell_type": "code",
   "execution_count": 18,
   "id": "911bd641",
   "metadata": {},
   "outputs": [],
   "source": [
    "embed_size = 128\n",
    "seq_length = 128\n",
    "\n",
    "model = ContentGPT(vocab_size, embed_size, seq_length, num_heads).to(DEVICE)"
   ]
  },
  {
   "cell_type": "code",
   "execution_count": 19,
   "id": "ea1405c9",
   "metadata": {},
   "outputs": [
    {
     "data": {
      "text/plain": [
       "torch.Size([8, 32, 156])"
      ]
     },
     "execution_count": 19,
     "metadata": {},
     "output_type": "execute_result"
    }
   ],
   "source": [
    "model(X.to(DEVICE)).shape"
   ]
  },
  {
   "cell_type": "code",
   "execution_count": 20,
   "id": "867a7a62",
   "metadata": {},
   "outputs": [
    {
     "data": {
      "text/plain": [
       "<All keys matched successfully>"
      ]
     },
     "execution_count": 20,
     "metadata": {},
     "output_type": "execute_result"
    }
   ],
   "source": [
    "PATH = f'GPT-{embed_size}-{vocab_size}-{seq_length}'\n",
    "model.load_state_dict(torch.load(f'./models/{PATH}.pt'))"
   ]
  },
  {
   "cell_type": "code",
   "execution_count": 21,
   "id": "fe7899ba",
   "metadata": {},
   "outputs": [],
   "source": [
    "criterion = ContentLoss()\n",
    "#criterion.load_state_dict(torch.load(f'./models/{PATH}-criterion.pt'))"
   ]
  },
  {
   "cell_type": "code",
   "execution_count": 22,
   "id": "001449aa",
   "metadata": {},
   "outputs": [
    {
     "data": {
      "text/plain": [
       "tensor(2.0696, device='cuda:0', grad_fn=<NllLossBackward0>)"
      ]
     },
     "execution_count": 22,
     "metadata": {},
     "output_type": "execute_result"
    }
   ],
   "source": [
    "criterion(model(X.to(DEVICE)), Y.to(DEVICE))"
   ]
  },
  {
   "cell_type": "code",
   "execution_count": 23,
   "id": "6cc0996d",
   "metadata": {},
   "outputs": [],
   "source": [
    "learning_rate = 1e-4\n",
    "optimizer = AdamW(model.parameters(), lr=learning_rate)\n",
    "#optimizer.load_state_dict(torch.load(f'./models/{PATH}-optimizer.pt'))"
   ]
  },
  {
   "cell_type": "code",
   "execution_count": 24,
   "id": "d0194f31",
   "metadata": {},
   "outputs": [],
   "source": [
    "def training_step(model, optimizer, criterion, X, Y):            \n",
    "    # pass forward\n",
    "    with torch.cuda.amp.autocast(enabled=False):\n",
    "        loss = criterion(model(X.to(DEVICE)), Y.to(DEVICE))\n",
    "        if torch.isnan(loss):\n",
    "            raise Exception('Loss went baNaNas...')\n",
    "    # backp-prop\n",
    "    optimizer.zero_grad()\n",
    "    scaler.scale(loss).backward()    \n",
    "    scaler.step(optimizer)\n",
    "    scaler.update()\n",
    "    return float(loss.item())\n",
    "\n",
    "\n",
    "def train(model, dataset, criterion, optimizer, batch_size):\n",
    "    model.train()\n",
    "    criterion.train()\n",
    "    history = []\n",
    "    loader = DataLoader(dataset, batch_size=batch_size, drop_last=True, shuffle=True)\n",
    "    for X, Y in loader:\n",
    "        history.append(training_step(model, optimizer, criterion, X, Y))\n",
    "    torch.cuda.empty_cache()\n",
    "    return history\n",
    "\n",
    "\n",
    "@torch.no_grad()\n",
    "def validate(model, dataset, criterion, batch_size):\n",
    "    model.eval()\n",
    "    criterion.eval()\n",
    "    history = []\n",
    "    loader = DataLoader(dataset, batch_size=batch_size)\n",
    "    for X, Y in loader:\n",
    "        loss = criterion(model(X.to(DEVICE)), Y.to(DEVICE))\n",
    "        history.append(float(loss.item()))\n",
    "    return history\n"
   ]
  },
  {
   "cell_type": "code",
   "execution_count": 25,
   "id": "d2e1b926",
   "metadata": {},
   "outputs": [],
   "source": [
    "batch_size = 128\n",
    "epochs = 5\n",
    "start = 1\n",
    "\n",
    "history = {'train':[],'test':[]}\n",
    "for epoch in range(start, epochs + 1):\n",
    "    for i, source in enumerate(np.random.permutation(trainset), 1):\n",
    "        train_history = train(model, ContentDataset(source, INDEX),\n",
    "                              criterion, optimizer, batch_size=batch_size)\n",
    "        test_history = validate(model, ContentDataset(np.random.choice(testset), INDEX),\n",
    "                                criterion, batch_size=batch_size)\n",
    "        # track epoch avg loss\n",
    "        history['train'].append(np.mean(train_history))\n",
    "        history['test'].append(np.mean(test_history))\n",
    "        print(f\"Epoch {epoch}: {i/len(trainset):<7.2%}  \"\n",
    "              f\"train: {history['train'][-1]:<5.4f}  \"\n",
    "              f\"test: {history['test'][-1]:<5.4f}  \"\n",
    "              , end='\\r')\n",
    "\n",
    "    torch.save(model.state_dict(), f'./models/{PATH}.pt')\n",
    "    with open(f'./output/{PATH}-{epoch}.json','w') as output:\n",
    "        json.dump(history, output)\n",
    "        history = {'train':[],'test':[]}"
   ]
  },
  {
   "cell_type": "code",
   "execution_count": 26,
   "id": "6f577d2f",
   "metadata": {},
   "outputs": [
    {
     "data": {
      "image/png": "[encoded data removed]",
      "text/plain": [
       "<Figure size 800x300 with 1 Axes>"
      ]
     },
     "metadata": {},
     "output_type": "display_data"
    },
    {
     "name": "stdout",
     "output_type": "stream",
     "text": [
      "10 tokens:  (Form 4563-T10\n",
      "20 tokens:  (Form 840 (a) In - ying \n",
      "30 tokens:  (For Courcial ☹ Vous avous name 50\n"
     ]
    }
   ],
   "source": [
    "#torch.save(optimizer.state_dict(), f'./models/{PATH}-optimizer.pt')\n",
    "#torch.save(criterion.state_dict(), f'./models/{PATH}-criterion.pt')\n",
    "\n",
    "train_history, test_history = [], []\n",
    "for path in sorted([str(x) for x in Path('./output').glob(f'{PATH}*.json')],\n",
    "                   key=lambda x:int(x.split('-')[-1][:-len('.json')])):\n",
    "    with open(path) as source:\n",
    "        h = json.load(source)\n",
    "        train_history += h['train']\n",
    "        test_history += h['test']\n",
    "\n",
    "fig, ax = plt.subplots(figsize=(8, 3))\n",
    "ax.plot(pd.Series(train_history).rolling(500).mean().dropna(), label='train')\n",
    "ax.plot(pd.Series(test_history).rolling(500).mean().dropna(), label='test')\n",
    "ax.set_title('Training loss history')\n",
    "plt.legend()\n",
    "plt.show()\n",
    "#plt.savefig(f\"./output/{PATH}-{epoch}.png\")\n",
    "\n",
    "start_context = '(For'\n",
    "encoded = torch.Tensor([tokenizer.encode(start_context)]).long().to(DEVICE)\n",
    "\n",
    "for length in [10, 20, 30]:\n",
    "    output = model.generate(encoded, total=length)\n",
    "    text = tokenizer.decode(output[0][0])\n",
    "    print(f'{length} tokens:  {text}')"
   ]
  },
  {
   "cell_type": "code",
   "execution_count": 27,
   "id": "d51d0956",
   "metadata": {},
   "outputs": [
    {
     "name": "stdout",
     "output_type": "stream",
     "text": [
      "(Form 1010 to \n",
      "(Form 1064-SCI\n",
      "(Form. Appelt \n",
      "(Form mation. \n",
      "(Form 208227 .\n"
     ]
    }
   ],
   "source": [
    "# generate 5 samples 1o tokens total each given `(For` starter context\n",
    "output = model.generate(encoded, total=10, num_samples=5)\n",
    "for x in output:\n",
    "    text = tokenizer.decode(x[0])\n",
    "    print(text)"
   ]
  },
  {
   "cell_type": "code",
   "execution_count": 28,
   "id": "cc02b798",
   "metadata": {},
   "outputs": [
    {
     "name": "stdout",
     "output_type": "stream",
     "text": [
      "(Form 10   proba: 0.104362\n",
      "(For mon   proba: 0.003423\n",
      "(Fore in   proba: 0.001619\n",
      "(Forniti   proba: 0.000603\n",
      "(Forcert   proba: 0.000143\n"
     ]
    }
   ],
   "source": [
    "# get top 5 probable 3 tokens each given `(For` starter context\n",
    "output, proba = model.get_top_k(encoded, k=5, length=3)\n",
    "for i in np.argsort(proba)[::-1]:\n",
    "    text = tokenizer.decode(output[i][0])\n",
    "    print(f'{text}   proba: {proba[i]:.6f}')"
   ]
  },
  {
   "cell_type": "code",
   "execution_count": null,
   "id": "710a6fcf",
   "metadata": {},
   "outputs": [],
   "source": []
  },
  {
   "cell_type": "code",
   "execution_count": null,
   "id": "1cb38a99",
   "metadata": {},
   "outputs": [],
   "source": []
  }
 ],
 "metadata": {
  "kernelspec": {
   "display_name": "Python 3 (ipykernel)",
   "language": "python",
   "name": "python3"
  },
  "language_info": {
   "codemirror_mode": {
    "name": "ipython",
    "version": 3
   },
   "file_extension": ".py",
   "mimetype": "text/x-python",
   "name": "python",
   "nbconvert_exporter": "python",
   "pygments_lexer": "ipython3",
   "version": "3.10.14"
  }
 },
 "nbformat": 4,
 "nbformat_minor": 5
}
