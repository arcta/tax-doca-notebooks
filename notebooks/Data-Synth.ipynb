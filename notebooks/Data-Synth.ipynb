{
 "cells": [
  {
   "cell_type": "markdown",
   "id": "812e63b1",
   "metadata": {},
   "source": [
    "# Synthetic Data\n",
    "In our case the priority is precision, so we use random insert.\n",
    "To generate noisy variations of the images derived from pdf-blanks:\n",
    "* [Fill in the inputs](#fill)\n",
    "* [Add visual noise](#noise)"
   ]
  },
  {
   "cell_type": "code",
   "execution_count": null,
   "id": "b93b658a",
   "metadata": {},
   "outputs": [],
   "source": [
    "import pandas as pd\n",
    "import numpy as np\n",
    "\n",
    "from PIL import Image, ImageOps\n",
    "from matplotlib import pyplot as plt\n",
    "from matplotlib import patches\n",
    "from pathlib import Path\n",
    "from fitz import fitz"
   ]
  },
  {
   "cell_type": "code",
   "execution_count": null,
   "id": "b601cb8f",
   "metadata": {},
   "outputs": [],
   "source": [
    "# local libs\n",
    "from scripts import simulate as sim\n",
    "from scripts import prep"
   ]
  },
  {
   "cell_type": "code",
   "execution_count": null,
   "id": "1b61feaa",
   "metadata": {},
   "outputs": [],
   "source": [
    "# page-level reference (multipage docs)\n",
    "pages = pd.read_csv('./data/page-summary.csv.gz')\n",
    "pages.columns"
   ]
  },
  {
   "cell_type": "code",
   "execution_count": null,
   "id": "3cce07ee",
   "metadata": {},
   "outputs": [],
   "source": [
    "# extracted page-images\n",
    "images = [str(x).split('/').pop()[:-4] for x in Path(f'./data/images').glob('*.png')]\n",
    "\n",
    "print(len(set(pd.read_csv('data/page-summary.csv.gz')['source']).intersection(set(images))) == len(images))\n",
    "\n",
    "# extracted page-inputs\n",
    "forms = [str(x).split('/').pop()[:-7] for x in Path(f'./data/inputs').glob('*.csv.gz')]\n",
    "forms = list(set(forms).intersection(set(images)))\n",
    "len(forms)"
   ]
  },
  {
   "cell_type": "markdown",
   "id": "6137cbf8",
   "metadata": {},
   "source": [
    "<a name=\"fill\"></a>\n",
    "\n",
    "## Simulate fill-in\n",
    "For the better version we would need more fonts, and some advanced logic for the text fill-in based on the input label."
   ]
  },
  {
   "cell_type": "code",
   "execution_count": null,
   "id": "8d9322dc",
   "metadata": {},
   "outputs": [],
   "source": [
    "source = np.random.choice(forms)\n",
    "print(source)\n",
    "# load image\n",
    "image = np.array(ImageOps.grayscale(Image.open(f'./data/images/{source}.png')))\n",
    "# load form-inputs info\n",
    "inputs = pd.read_csv(f'./data/inputs/{source}.csv.gz')\n",
    "# load textual content\n",
    "content = pd.read_csv(f'./data/info/{source}.csv.gz')[['left','top','right','bottom','text']]\n",
    "matrix = sim.layout_matrix(content)\n",
    "\n",
    "index = int(source.split('-').pop())\n",
    "doc = '-'.join(source.split('-')[:-1])\n",
    "with fitz.open(f'./data/forms/{doc}.pdf') as doc:\n",
    "    page = doc.load_page(index)\n",
    "    image, info = sim.fill_in_blanks(page, 200, matrix)\n",
    "        \n",
    "fig, ax = plt.subplots(figsize=(10,10))\n",
    "ax.imshow(image, 'gray')\n",
    "s = min(image.shape)\n",
    "for box in inputs[['left','top','right','bottom','field_type_string','field_display']].values:\n",
    "    x1, y1, x2, y2 = box[:4].astype(float)\n",
    "    t, d = box[4:]\n",
    "    w, h = (x2 - x1) * s, (y2 - y1) * s\n",
    "    x, y = x1 * s, y1 * s\n",
    "    c = f'C{d}' if t in sim.WIDGETS else 'gray'\n",
    "    ax.add_patch(patches.Rectangle((x, y), w, h, linewidth=1, edgecolor=c, facecolor='none'))\n",
    "plt.title('Highlighted boxes with simulated input')\n",
    "plt.show()\n"
   ]
  },
  {
   "cell_type": "code",
   "execution_count": null,
   "id": "94fe8785",
   "metadata": {},
   "outputs": [],
   "source": [
    "pd.DataFrame.from_dict(info)[['field_name','field_display','field_type_string','text_maxlen','value']].head()"
   ]
  },
  {
   "cell_type": "markdown",
   "id": "f79e0c31",
   "metadata": {},
   "source": [
    "<a name=\"noise\"></a>\n",
    "\n",
    "## Simulate noisy data\n",
    "Let's add some skew (small rotation angle), random orientation (0, 90, 180, 270), uneven light, and noise."
   ]
  },
  {
   "cell_type": "code",
   "execution_count": null,
   "id": "474a3fd5",
   "metadata": {},
   "outputs": [],
   "source": [
    "level = 0.5\n",
    "fig, ax = plt.subplots(1, 2, figsize=(8,8))\n",
    "ax[0].imshow((prep.generate_noise(1000, scale=2) * 255).astype(np.uint8), 'gray')\n",
    "ax[0].set_title('light only')\n",
    "ax[1].imshow((prep.generate_noise(1024, scale=2) * 255).astype(np.uint8), 'gray')\n",
    "ax[1].set_title('light + noise')\n",
    "plt.show()"
   ]
  },
  {
   "cell_type": "code",
   "execution_count": null,
   "id": "ff978a95",
   "metadata": {},
   "outputs": [],
   "source": [
    "level = 0.5\n",
    "fig, ax = plt.subplots(1, 2, figsize=(10,10))\n",
    "ax[0].imshow(prep.random_transform(image, noise=0.5, perspective=False)[0], 'gray')\n",
    "ax[0].set_title('Noise + rotation')\n",
    "ax[1].imshow(prep.random_transform(image, noise=0.5, perspective=True)[0], 'gray')\n",
    "ax[1].set_title('Noise + rotation + distortion')\n",
    "plt.show()"
   ]
  },
  {
   "cell_type": "code",
   "execution_count": null,
   "id": "9567f455",
   "metadata": {},
   "outputs": [],
   "source": []
  },
  {
   "cell_type": "code",
   "execution_count": null,
   "id": "fb9f1ab6",
   "metadata": {},
   "outputs": [],
   "source": []
  }
 ],
 "metadata": {
  "kernelspec": {
   "display_name": "Python 3 (ipykernel)",
   "language": "python",
   "name": "python3"
  },
  "language_info": {
   "codemirror_mode": {
    "name": "ipython",
    "version": 3
   },
   "file_extension": ".py",
   "mimetype": "text/x-python",
   "name": "python",
   "nbconvert_exporter": "python",
   "pygments_lexer": "ipython3",
   "version": "3.10.12"
  }
 },
 "nbformat": 4,
 "nbformat_minor": 5
}
